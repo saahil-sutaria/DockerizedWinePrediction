{
 "cells": [
  {
   "cell_type": "code",
   "execution_count": 5,
   "metadata": {},
   "outputs": [],
   "source": [
    "from flask import Flask, request, render_template, redirect, url_for\n",
    "import numpy as np \n",
    "import pandas as pd\n",
    "import pickle"
   ]
  },
  {
   "cell_type": "code",
   "execution_count": 6,
   "metadata": {},
   "outputs": [],
   "source": [
    "app = Flask(__name__)\n",
    "model = open('winePredictionModel.sav', 'rb')\n",
    "prediction = pickle.load(model)"
   ]
  },
  {
   "cell_type": "code",
   "execution_count": 7,
   "metadata": {},
   "outputs": [],
   "source": [
    "@app.route('/homepage')\n",
    "def homepage():\n",
    "    return render_template('main.html')"
   ]
  },
  {
   "cell_type": "code",
   "execution_count": 8,
   "metadata": {},
   "outputs": [],
   "source": [
    "@app.route('/predict', methods=['GET', 'POST'])\n",
    "def predictWine():\n",
    "    if request.method == \"POST\":\n",
    "        details = {\n",
    "        'fixed acidity' : [float(request.form[\"fa\"])],\n",
    "        'volatile acidity' : [float(request.form[\"va\"])],\n",
    "        'citric acid' :  [float(request.form[\"ca\"])],\n",
    "        'residual sugar':  [float(request.form[\"rs\"])],\n",
    "        'chlorides' : [float(request.form[\"chl\"])],\n",
    "        'free sulfur dioxide' :[float(request.form[\"fsd\"])],\n",
    "        'total sulfur dioxide' :[float(request.form[\"tsd\"])],\n",
    "        'density': [float(request.form[\"den\"])],\n",
    "        'pH': [float(request.form[\"ph\"])],\n",
    "        'sulphates' : [float(request.form[\"sul\"])],\n",
    "        'alcohol': [float(request.form[\"alc\"])]\n",
    "        }\n",
    "        print(type(details))\n",
    "        return redirect(url_for(\"details\", dtl = details))\n",
    "    return render_template('predictionForm.html')"
   ]
  },
  {
   "cell_type": "code",
   "execution_count": 9,
   "metadata": {},
   "outputs": [],
   "source": [
    "@app.route('/<dtl>')\n",
    "def details(dtl):\n",
    "    \n",
    "    print(type(dtl))\n",
    "    print(dtl)\n",
    "    df = pd.DataFrame(data = dtl)\n",
    "    print(df)\n",
    "    print(type(df))\n",
    "    print(type(df['ph']))\n",
    "    \n",
    "    \n",
    "    d = {'fixed acidity': [8.9], \n",
    "     'volatile acidity': [0.22],  \n",
    "     'citric acid':[0.48],  \n",
    "     'residual sugar':[1.8], \n",
    "     'chlorides':[0.077], \n",
    "     'free sulfur dioxide': [29.0],\n",
    "     'total sulfur dioxide': [60.0],\n",
    "     'density': [0.9968],\n",
    "     'pH':[3.39],\n",
    "     'sulphates':[0.53],\n",
    "     'alcohol':[9.4],\n",
    "      }\n",
    "    df = pd.DataFrame(data=d)\n",
    "    quality = ['Good', 'Medium', 'Bad']\n",
    "    ans = prediction.predict(df)\n",
    "    \n",
    "    return \"Quality is \" + str(quality[ans[0]])\n",
    "    "
   ]
  },
  {
   "cell_type": "code",
   "execution_count": null,
   "metadata": {},
   "outputs": [
    {
     "name": "stdout",
     "output_type": "stream",
     "text": [
      " * Serving Flask app \"__main__\" (lazy loading)\n",
      " * Environment: production\n",
      "\u001b[31m   WARNING: This is a development server. Do not use it in a production deployment.\u001b[0m\n",
      "\u001b[2m   Use a production WSGI server instead.\u001b[0m\n",
      " * Debug mode: off\n"
     ]
    },
    {
     "name": "stderr",
     "output_type": "stream",
     "text": [
      " * Running on http://127.0.0.1:5000/ (Press CTRL+C to quit)\n",
      "127.0.0.1 - - [06/Dec/2020 22:48:01] \"\u001b[37mGET /predict HTTP/1.1\u001b[0m\" 200 -\n",
      "127.0.0.1 - - [06/Dec/2020 22:48:02] \"\u001b[37mGET /predict HTTP/1.1\u001b[0m\" 200 -\n",
      "127.0.0.1 - - [06/Dec/2020 22:48:07] \"\u001b[32mPOST /predict HTTP/1.1\u001b[0m\" 302 -\n",
      "[2020-12-06 22:48:07,276] ERROR in app: Exception on /{'residual sugar': [2.0], 'sulphates': [2.0], 'total sulfur dioxide': [2.0], 'citric acid': [2.0], 'pH': [2.0], 'volatile acidity': [2.0], 'free sulfur dioxide': [2.0], 'alcohol': [2.0], 'chlorides': [2.0], 'density': [2.0], 'fixed acidity': [1.0]} [GET]\n",
      "Traceback (most recent call last):\n",
      "  File \"/usr/local/lib/python2.7/site-packages/flask/app.py\", line 2447, in wsgi_app\n",
      "    response = self.full_dispatch_request()\n",
      "  File \"/usr/local/lib/python2.7/site-packages/flask/app.py\", line 1952, in full_dispatch_request\n",
      "    rv = self.handle_user_exception(e)\n",
      "  File \"/usr/local/lib/python2.7/site-packages/flask/app.py\", line 1821, in handle_user_exception\n",
      "    reraise(exc_type, exc_value, tb)\n",
      "  File \"/usr/local/lib/python2.7/site-packages/flask/app.py\", line 1950, in full_dispatch_request\n",
      "    rv = self.dispatch_request()\n",
      "  File \"/usr/local/lib/python2.7/site-packages/flask/app.py\", line 1936, in dispatch_request\n",
      "    return self.view_functions[rule.endpoint](**req.view_args)\n",
      "  File \"<ipython-input-9-87d9c433d807>\", line 6, in details\n",
      "    df = pd.DataFrame(data = dtl)\n",
      "  File \"/usr/local/lib/python2.7/site-packages/pandas/core/frame.py\", line 468, in __init__\n",
      "    raise ValueError('DataFrame constructor not properly called!')\n",
      "ValueError: DataFrame constructor not properly called!\n",
      "127.0.0.1 - - [06/Dec/2020 22:48:07] \"\u001b[35m\u001b[1mGET /%7B%27residual%20sugar%27:%20%5B2.0%5D%2C%20%27sulphates%27:%20%5B2.0%5D%2C%20%27total%20sulfur%20dioxide%27:%20%5B2.0%5D%2C%20%27citric%20acid%27:%20%5B2.0%5D%2C%20%27pH%27:%20%5B2.0%5D%2C%20%27volatile%20acidity%27:%20%5B2.0%5D%2C%20%27free%20sulfur%20dioxide%27:%20%5B2.0%5D%2C%20%27alcohol%27:%20%5B2.0%5D%2C%20%27chlorides%27:%20%5B2.0%5D%2C%20%27density%27:%20%5B2.0%5D%2C%20%27fixed%20acidity%27:%20%5B1.0%5D%7D HTTP/1.1\u001b[0m\" 500 -\n"
     ]
    },
    {
     "name": "stdout",
     "output_type": "stream",
     "text": [
      "<type 'unicode'>\n",
      "{'residual sugar': [2.0], 'sulphates': [2.0], 'total sulfur dioxide': [2.0], 'citric acid': [2.0], 'pH': [2.0], 'volatile acidity': [2.0], 'free sulfur dioxide': [2.0], 'alcohol': [2.0], 'chlorides': [2.0], 'density': [2.0], 'fixed acidity': [1.0]}\n"
     ]
    }
   ],
   "source": [
    "if __name__ == '__main__':\n",
    "    app.run()\n",
    "    "
   ]
  },
  {
   "cell_type": "code",
   "execution_count": null,
   "metadata": {},
   "outputs": [],
   "source": [
    " "
   ]
  },
  {
   "cell_type": "code",
   "execution_count": null,
   "metadata": {},
   "outputs": [],
   "source": []
  },
  {
   "cell_type": "code",
   "execution_count": null,
   "metadata": {},
   "outputs": [],
   "source": []
  },
  {
   "cell_type": "code",
   "execution_count": null,
   "metadata": {},
   "outputs": [],
   "source": []
  },
  {
   "cell_type": "code",
   "execution_count": null,
   "metadata": {},
   "outputs": [],
   "source": []
  },
  {
   "cell_type": "code",
   "execution_count": null,
   "metadata": {},
   "outputs": [],
   "source": []
  }
 ],
 "metadata": {
  "kernelspec": {
   "display_name": "Python 2",
   "language": "python",
   "name": "python2"
  },
  "language_info": {
   "codemirror_mode": {
    "name": "ipython",
    "version": 2
   },
   "file_extension": ".py",
   "mimetype": "text/x-python",
   "name": "python",
   "nbconvert_exporter": "python",
   "pygments_lexer": "ipython2",
   "version": "2.7.16"
  }
 },
 "nbformat": 4,
 "nbformat_minor": 2
}
